{
 "cells": [
  {
   "cell_type": "markdown",
   "id": "1091a2b0",
   "metadata": {},
   "source": [
    "# Python Decorators"
   ]
  },
  {
   "cell_type": "markdown",
   "id": "a4a9edf1",
   "metadata": {},
   "source": [
    "Since everything in python is an object, thus offcourse functions could be treated as same and apparently can be assigned to the variables or be passed as an arguments or anything we could think of."
   ]
  },
  {
   "cell_type": "code",
   "execution_count": 1,
   "id": "6152a668",
   "metadata": {},
   "outputs": [
    {
     "data": {
      "text/plain": [
       "<function __main__.ayo()>"
      ]
     },
     "execution_count": 1,
     "metadata": {},
     "output_type": "execute_result"
    }
   ],
   "source": [
    "## Functions as objects\n",
    "\n",
    "def ayo():\n",
    "    return \"Ayo! my boy.\"\n",
    "\n",
    "hey = ayo  # assign ayo (not as function) to the variable hey\n",
    "del ayo  # delete ayo\n",
    "\n",
    "hey  # see what hey does for us"
   ]
  },
  {
   "cell_type": "code",
   "execution_count": 2,
   "id": "2ab2bdd4",
   "metadata": {},
   "outputs": [
    {
     "data": {
      "text/plain": [
       "'Ayo! my boy.'"
      ]
     },
     "execution_count": 2,
     "metadata": {},
     "output_type": "execute_result"
    }
   ],
   "source": [
    "hey()"
   ]
  },
  {
   "attachments": {},
   "cell_type": "markdown",
   "id": "ccdb3303",
   "metadata": {},
   "source": [
    "### # Idea of returning a function within a function:"
   ]
  },
  {
   "cell_type": "code",
   "execution_count": 3,
   "id": "3bb45259",
   "metadata": {},
   "outputs": [],
   "source": [
    "def hello_motto(name='spidey'):\n",
    "    print(\"hello_motto() is executed!\")\n",
    "    \n",
    "    def greet():\n",
    "        return \"I'm the first in hello_motto()!\"\n",
    "    \n",
    "    def welcome():\n",
    "        return \"I'm the second in hello_motto()!\"\n",
    "    \n",
    "    if name == 'spidey':\n",
    "        return greet\n",
    "    else:\n",
    "        return welcome"
   ]
  },
  {
   "cell_type": "code",
   "execution_count": 4,
   "id": "a59751ec",
   "metadata": {},
   "outputs": [
    {
     "name": "stdout",
     "output_type": "stream",
     "text": [
      "hello_motto() is executed!\n"
     ]
    },
    {
     "data": {
      "text/plain": [
       "<function __main__.hello_motto.<locals>.greet()>"
      ]
     },
     "execution_count": 4,
     "metadata": {},
     "output_type": "execute_result"
    }
   ],
   "source": [
    "## Execute hello_motto()\n",
    "\n",
    "hello_motto()"
   ]
  },
  {
   "cell_type": "markdown",
   "id": "f51cbcec",
   "metadata": {},
   "source": [
    "### # Passing a function as as argument:"
   ]
  },
  {
   "cell_type": "code",
   "execution_count": 5,
   "id": "a84332f4",
   "metadata": {},
   "outputs": [],
   "source": [
    "def say_what(did_say_nothing):\n",
    "    print(f'{did_say_nothing} is gonna run..')\n",
    "    print(did_say_nothing())"
   ]
  },
  {
   "cell_type": "code",
   "execution_count": 6,
   "id": "6df1956c",
   "metadata": {},
   "outputs": [
    {
     "name": "stdout",
     "output_type": "stream",
     "text": [
      "<function lucy at 0x000002A753BD4670> is gonna run..\n",
      "lucifer morningstar\n",
      "lucifer morningstar\n"
     ]
    }
   ],
   "source": [
    "def lucy():\n",
    "    print(\"lucifer morningstar\")\n",
    "    return \"lucifer morningstar\"\n",
    "\n",
    "say_what(did_say_nothing=lucy)"
   ]
  },
  {
   "cell_type": "code",
   "execution_count": 7,
   "id": "4c5fe3e2",
   "metadata": {},
   "outputs": [
    {
     "name": "stdout",
     "output_type": "stream",
     "text": [
      "<function hello_motto at 0x000002A753BD43A0> is gonna run..\n",
      "hello_motto() is executed!\n",
      "<function hello_motto.<locals>.greet at 0x000002A753BD4700>\n"
     ]
    }
   ],
   "source": [
    "say_what(did_say_nothing=hello_motto)"
   ]
  },
  {
   "cell_type": "markdown",
   "id": "2ff98a0c",
   "metadata": {},
   "source": [
    "Now that we have all pre-requisites for `decorators`, let's see what they are really about.."
   ]
  },
  {
   "cell_type": "code",
   "execution_count": 8,
   "id": "eccae4fe",
   "metadata": {},
   "outputs": [],
   "source": [
    "## Decorator function\n",
    "\n",
    "def new_dec(needs_decoration):\n",
    "    \n",
    "    def wrapper():\n",
    "        print(\"anything before `gift` is run..\")\n",
    "        needs_decoration()\n",
    "        print('..anything after `gift` has been run')\n",
    "        \n",
    "    return wrapper()"
   ]
  },
  {
   "cell_type": "code",
   "execution_count": 9,
   "id": "c9ad2d24",
   "metadata": {},
   "outputs": [
    {
     "name": "stdout",
     "output_type": "stream",
     "text": [
      "anything before `gift` is run..\n",
      "I do wanna be decorated!\n",
      "..anything after `gift` has been run\n"
     ]
    }
   ],
   "source": [
    "def gift():\n",
    "    print(\"I do wanna be decorated!\")\n",
    "\n",
    "new_dec(needs_decoration=gift)"
   ]
  },
  {
   "cell_type": "code",
   "execution_count": 10,
   "id": "f5da6ce0",
   "metadata": {},
   "outputs": [
    {
     "name": "stdout",
     "output_type": "stream",
     "text": [
      "anything before `gift` is run..\n",
      "lucifer morningstar\n",
      "..anything after `gift` has been run\n"
     ]
    }
   ],
   "source": [
    "new_dec(needs_decoration=lucy)"
   ]
  },
  {
   "cell_type": "markdown",
   "id": "c345f39c",
   "metadata": {},
   "source": [
    "### # Using `@` as as ON/OFF switch to decorate a function:"
   ]
  },
  {
   "cell_type": "code",
   "execution_count": 11,
   "id": "28f46b4e",
   "metadata": {},
   "outputs": [
    {
     "name": "stdout",
     "output_type": "stream",
     "text": [
      "anything before `gift` is run..\n",
      "Hi, what do you truly desire? Emphasis's on `truly`!\n",
      "..anything after `gift` has been run\n"
     ]
    }
   ],
   "source": [
    "@new_dec\n",
    "def hey_lucy():\n",
    "    print(\"Hi, what do you truly desire? Emphasis's on `truly`!\")"
   ]
  },
  {
   "cell_type": "markdown",
   "id": "f8d9bc29",
   "metadata": {},
   "source": [
    "**=>** That's all 'bout these **`decorators`**."
   ]
  }
 ],
 "metadata": {
  "kernelspec": {
   "display_name": "Python 3 (ipykernel)",
   "language": "python",
   "name": "python3"
  },
  "language_info": {
   "codemirror_mode": {
    "name": "ipython",
    "version": 3
   },
   "file_extension": ".py",
   "mimetype": "text/x-python",
   "name": "python",
   "nbconvert_exporter": "python",
   "pygments_lexer": "ipython3",
   "version": "3.9.12"
  }
 },
 "nbformat": 4,
 "nbformat_minor": 5
}
