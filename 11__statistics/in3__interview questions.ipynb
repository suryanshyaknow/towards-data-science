{
 "cells": [
  {
   "cell_type": "markdown",
   "id": "39fba9f2",
   "metadata": {},
   "source": [
    "### 1. What is Exploratory Data Analysis?"
   ]
  },
  {
   "cell_type": "markdown",
   "id": "468408ca",
   "metadata": {},
   "source": [
    "Techniques to initially analyze and investigate datasets to: \n",
    "- discover patterns\n",
    "- deal with anomalies or outliers\n",
    "- test hypotheses\n",
    "- check assumptions with the help of summary statistics and graphical representations."
   ]
  },
  {
   "cell_type": "markdown",
   "id": "eee1273c",
   "metadata": {},
   "source": [
    "### 2. What are Quantitative and Qualitative data?"
   ]
  },
  {
   "cell_type": "markdown",
   "id": "f1000f34",
   "metadata": {},
   "source": [
    "**Quantitative data:** Numerical data. Can be counted and measured.\n",
    "<br><br>\n",
    "**Quanlitative data:** Descriptive Data. Referring to things that can be observed but not measured.\n",
    "<br>for eg: categories based on anything as such color, class, status, gebder, race, etc."
   ]
  },
  {
   "cell_type": "markdown",
   "id": "d5cbdacb",
   "metadata": {},
   "source": [
    "### 3. Meaning of `KPI` in Stats?"
   ]
  },
  {
   "cell_type": "markdown",
   "id": "1bb8abac",
   "metadata": {},
   "source": [
    "**Key Performance Indicator (quantifiable measure).**<br>\n",
    "Quantifiable measure of performance over time for a specific objective.\n",
    "<br><br>\n",
    "for eg: \n",
    "- targets for teams to shoot for,\n",
    "- milestones to gauge progress\n",
    "- insights that help people across the organisations to make better decisions."
   ]
  },
  {
   "cell_type": "markdown",
   "id": "4d4de97c",
   "metadata": {},
   "source": [
    "### 4. Univariate, Bivariate and Multivariate Analyses?"
   ]
  },
  {
   "cell_type": "markdown",
   "id": "52006aa9",
   "metadata": {},
   "source": [
    "Analyses to draw meaningful indights or to have the initial understanding of the data.\n",
    "<br><br>\n",
    "- when done on a single feature at a time: **Univariate Analysis**.\n",
    "<br><br>\n",
    "- when done on two features at a time (mainly to discover trends between them): **Bivariate Analysis**.\n",
    "<br><br>\n",
    "- when done on more than two features at a time: **Multivariate Analysis**.<br>\n",
    "    (mainly to discover meaningful relations between two or more features **influenced or discerned** by the remaining ones.)"
   ]
  },
  {
   "cell_type": "markdown",
   "id": "e4dfaec2",
   "metadata": {},
   "source": [
    "### 5. How would ya approach a dataset having 30% missing vals?"
   ]
  },
  {
   "cell_type": "markdown",
   "id": "1837f8e5",
   "metadata": {},
   "source": [
    "- Since 30% of the data is not a small amount to get rid of, the approach to disregard this much data could cost us some meaningful info or relations. So it would not be right to go ahead w this approach.<br>\n",
    "- Conversely if the missing values can be **imputed with the median of the respective features column**, we're not only preventing to loose 30% of the data but by imputing them with the median of the respective features would also make them **insensitive to the outliers**.\n",
    "<br>\n",
    "- Apart from this approach we can use **KNN imputors** to predict the missing values. \n",
    "- And even, we could also build a model on the 70% of the data and use it to predict the remaining 30%."
   ]
  },
  {
   "cell_type": "markdown",
   "id": "16455980",
   "metadata": {},
   "source": [
    "### 6.  Give an example where the median is a better measure than the mean."
   ]
  },
  {
   "cell_type": "markdown",
   "id": "7b24bd69",
   "metadata": {},
   "source": [
    "Since we already know that **mean is sensitive to the outliers** because it tends to go along with the data in either direction where there is skewness, oppose to which median is not. On top of that, **the median also does a better job of capturing the central location of a distribution when there are outliers present in the data.**<br>\n",
    "Thus, the cases involving **skewed distributions and outliers** would better benefit from the median rather than the mean. \n",
    "<br><br>\n",
    "In layman terms, When a distribution is skewed or contain vast amount of outliers say around 30% or more, the median does a better job of describing the center of the distribution than the mean."
   ]
  },
  {
   "cell_type": "markdown",
   "id": "42fd5089",
   "metadata": {},
   "source": [
    "### 7. What is the difference between Descriptive and Inferential Statistics?"
   ]
  },
  {
   "cell_type": "markdown",
   "id": "70edb480",
   "metadata": {},
   "source": [
    "**Descriptive statistics** tells us the description of the data. It summarizes the data or we can say it gives us the bird-eye view of the data.\n",
    "<br>The data can be described (according to the descriptive stats) by the \n",
    "- **central tendency of the data** that is nothing but a number that can be indicative or representative of the whole dataset at the hand. Those numbers can be mean, median or mode.\n",
    "<br>for example: if we are to represent or describe a dataset, we could come up w a number that is indicative of all the members present in dataset and that number would be the central tendency of that data.\n",
    "- **dispersion of the data** i.e. how the data points of the data varies from the central tendency. That measure can be either **variance** or **standard deviation**.\n",
    "\n",
    "**Inferential Statistics** revolves around the selecting a **sample** from the huge amount (like mad huge) of data i.e. **population data** and making some inferences by various means on that sample and make inferences about the original dataset. Thos varous means involes hypotheses testing using various tests accordingly."
   ]
  },
  {
   "cell_type": "markdown",
   "id": "2ce8e991",
   "metadata": {},
   "source": [
    "### 8. State the methods of dispersion of the data in statistics?"
   ]
  },
  {
   "cell_type": "markdown",
   "id": "61d0f3da",
   "metadata": {},
   "source": [
    "- **Variance**: **Averaged Squared Deviations from the mean**. Basically tells us on average how far away each of the datapoints is from the central tendency of the distribution of the data. Think **Spread** of the data.\n",
    "\n",
    "- **Standard deviation**: How far on the average is an observation from the average. **Square root of the Variance.** Gives us the exact measure of the distance bw a given datapoint and the average.\n",
    "<br>A high standard deviation means that values are generally far from\n",
    "the mean, while a low standard deviation indicates that values are\n",
    "clustered close to the mean."
   ]
  },
  {
   "cell_type": "markdown",
   "id": "d1bd8f80",
   "metadata": {},
   "source": [
    "### 9. How can we calculate the range of the data? Is it sensitive to the outliers?"
   ]
  },
  {
   "cell_type": "markdown",
   "id": "a4631d43",
   "metadata": {},
   "source": [
    "**Range** is simply the difference between the maximum value and the minimum value given in a data set. And it's exactly that how it's calculated.\n",
    "<br>**The range is sensitive to the outliers.**<br><br>If we want a range that is **insensitive to the outliers** then that range would be calculated with the help of fences(lower and upper) determined by the **Interquartile range**(i.e 75th percentile value - 25th percentile value).\n",
    "<br><br>lower_fence = Q1 - 1.5(IQR) where Q1 = 1st quartile val\n",
    "<br><br>upper_fence = Q3 + 1.5(IQR) where Q3 = 2nd quartile val"
   ]
  },
  {
   "cell_type": "markdown",
   "id": "11e41bb5",
   "metadata": {},
   "source": [
    "### 10. What are the scenarios where outliers are kept in the data?"
   ]
  },
  {
   "cell_type": "markdown",
   "id": "50706569",
   "metadata": {},
   "source": [
    "In cases where the **exceptions** are of much interest to us than the rules like in **Anomaly detection** problem. Outliers analysis in such cases becomes important.\n",
    "<br>for ex: **Credit Card Fault Detection**."
   ]
  },
  {
   "cell_type": "markdown",
   "id": "2e2fcd3d",
   "metadata": {},
   "source": [
    "###  11. What is Bessel's correction?"
   ]
  },
  {
   "cell_type": "markdown",
   "id": "3bceed26",
   "metadata": {},
   "source": [
    "**Variance for Population data:** Sumission of the squared distances from the **population mean(mu)** averaged by the number of the datapoints.\n",
    "<br><br>\n",
    "**Variance for Sample data:** Ideally it should be Sumission of the squared distances from the **sample mean(xbar)** averaged by the number of datapoints.<br><br>But there might be cases, where we happen to pick the samples whose mean is significantly far away from the popmean, thus those won't be apt for making inferences about the popdata, and thus by doing that **sample standard dev** would be **underestimating the popvariance** and thus the domain expertizees experimented that in the standard deviation term instead of deviding the numerator by n, **n-1 gives much better estimate.**\n",
    "<br>This correction is called as **Bessesl's correction**."
   ]
  },
  {
   "cell_type": "markdown",
   "id": "efd78f3b",
   "metadata": {},
   "source": [
    "### 12. What do you understand about a spread out and concentrated curve?"
   ]
  },
  {
   "cell_type": "markdown",
   "id": "2a08cf2c",
   "metadata": {},
   "source": [
    "**Spread out curve** would be the curve that is spread over the range of the given distribution, and **Concentrated curve** is the curve that's more concentrated towards the mean."
   ]
  },
  {
   "cell_type": "markdown",
   "id": "82a87b8a",
   "metadata": {},
   "source": [
    "### 13. What do ya understand by the `coefficient of variation`?"
   ]
  },
  {
   "attachments": {
    "coefficient_of_variation.svg": {
     "image/svg+xml": [
      "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"
     ]
    }
   },
   "cell_type": "markdown",
   "id": "346eb498",
   "metadata": {},
   "source": [
    "![coefficient_of_variation.svg](attachment:coefficient_of_variation.svg)"
   ]
  },
  {
   "cell_type": "markdown",
   "id": "73302939",
   "metadata": {},
   "source": [
    "The **coefficient of variation** indicates the size of a standard deviation in relation to its mean. The higher the coefficient of variation, the greater the dispersion level around the mean."
   ]
  },
  {
   "cell_type": "markdown",
   "id": "dcba0fcb",
   "metadata": {},
   "source": [
    "### 14. State the case where the median is a better measure when compared to the mean."
   ]
  },
  {
   "cell_type": "markdown",
   "id": "eedf2da9",
   "metadata": {},
   "source": [
    "Since the median is resistant to the outliers, it'd be a better measure as compared to the mean in cases where there are outleirs to deal with.\n",
    "<br>\n",
    "In the skewed distribution too, median would be the better measure since mean tend to be dragged along with the skewness."
   ]
  },
  {
   "cell_type": "markdown",
   "id": "c6529fc6",
   "metadata": {},
   "source": [
    "### 15. How is missing data handled in statistics?"
   ]
  },
  {
   "cell_type": "markdown",
   "id": "0cedc300",
   "metadata": {},
   "source": [
    "- **Imputation** by mean or median according to the situation at hand.\n",
    "-  **Removal of data**"
   ]
  },
  {
   "cell_type": "markdown",
   "id": "b0cfcdea",
   "metadata": {},
   "source": [
    "### 16. What is meant by mean imputation for missing data? Why is it bad?"
   ]
  },
  {
   "cell_type": "markdown",
   "id": "bc573bf6",
   "metadata": {},
   "source": [
    "Impuatation would be bad beacuse it can lead to into **severely biased estimates**."
   ]
  },
  {
   "cell_type": "markdown",
   "id": "5e5bd95e",
   "metadata": {},
   "source": [
    "### 17. What is the benefit of using box plots?"
   ]
  },
  {
   "cell_type": "markdown",
   "id": "b7590fe7",
   "metadata": {},
   "source": [
    "**Box and whisker plots** are very effective and easy to read, **as they can summarize data from multiple sources and display the results in a single graph.**\n",
    "Equally importantly, the outliers(if any) are cleary visible in these plots."
   ]
  },
  {
   "cell_type": "markdown",
   "id": "246ee1a0",
   "metadata": {},
   "source": [
    "### 18. What is the meaning of the five-number summary in Statistics?"
   ]
  },
  {
   "cell_type": "markdown",
   "id": "17c8ae4a",
   "metadata": {},
   "source": [
    "A **five-number summary** is especially useful in descriptive analyses or during the preliminary investigation of a large data set. A summary consists of five values: \n",
    "- **the most extreme values in the data set** (the maximum and minimum values), \n",
    "- **the lower** and **upper quartiles**, \n",
    "- and **the median**."
   ]
  },
  {
   "cell_type": "markdown",
   "id": "42f674e8",
   "metadata": {},
   "source": [
    "### 19. What is the difference between the I quartile, the IInd quartile, and the IIIrd quartile?"
   ]
  },
  {
   "cell_type": "markdown",
   "id": "b1c51545",
   "metadata": {},
   "source": [
    "**Quartiles** are the sections left by dividing a given dataset into 4 equal parts.\n",
    "- **I quartile:** below which 25% of observations less than or equal to it lies.\n",
    "- **II quartile:** below which 50% of observations less than or equal to it lies.\n",
    "- **III quartile:** below which 75% of observations less than or equal to it lies."
   ]
  },
  {
   "cell_type": "markdown",
   "id": "7949d999",
   "metadata": {},
   "source": [
    "### 20. What is the difference between percent and percentile?"
   ]
  },
  {
   "cell_type": "markdown",
   "id": "b2f8df4a",
   "metadata": {},
   "source": [
    "**Percent:** Any number of observations outta total normalized by 100.\n",
    "<br><br>\n",
    "**Percentile:** a k-th percentile is a score below which a given percentage k of scores in its frequency distribution falls or a score at or below which a given percentage falls."
   ]
  },
  {
   "cell_type": "markdown",
   "id": "c730151d",
   "metadata": {},
   "source": [
    "### 21. What is an Outlier?"
   ]
  },
  {
   "cell_type": "markdown",
   "id": "4b9dd6d4",
   "metadata": {},
   "source": [
    "An outlier is a data point that differs significantly from other observations. **An outlier may be `due to variability in the measurement` or `it may indicate experimental error`**; the latter are sometimes excluded from the data set."
   ]
  },
  {
   "cell_type": "markdown",
   "id": "ba3c58bd",
   "metadata": {},
   "source": [
    "### 22. What is the impact of outliers in a dataset?"
   ]
  },
  {
   "cell_type": "markdown",
   "id": "96e95440",
   "metadata": {},
   "source": [
    "- They may cause a significant impact on the mean and apparently on the standard deviation.\n",
    "- If the outliers are non-randomly distributed, they can decrease normality.\n",
    "- They can bias or influence estimates that may be of substantive interest.\n",
    "- They can also impact the basic assumption of Regression, ANOVA, and other statistical model assumptions."
   ]
  },
  {
   "cell_type": "markdown",
   "id": "a3443cf3",
   "metadata": {},
   "source": [
    "### 23. Mention methods to screen for outliers in a dataset."
   ]
  },
  {
   "cell_type": "markdown",
   "id": "597bf9af",
   "metadata": {},
   "source": [
    "- Sometimes, by just sorting the data we can observe abnormal values.\n",
    "- Using graphical method; we can plot a boxplot and it'll spontaneously discern the outliers that are beyond the scope of lower and upper fence.\n",
    "- By computing z-score, and making inferences from the distribution.\n",
    "    - since we know 99.7% of the data lies from 3 standard deviations from mean in either direction, we can discern the ouliers this way.\n",
    "- Using the IQR by computing the lower fence and the upper fence."
   ]
  },
  {
   "cell_type": "markdown",
   "id": "dce3dd0a",
   "metadata": {},
   "source": [
    "### 24. How you can handle outliers in the datasets."
   ]
  },
  {
   "cell_type": "markdown",
   "id": "c4649be7",
   "metadata": {},
   "source": [
    "- By removing them straig away.\n",
    "- By replacing them with the median of the respective columns.\n",
    "- By transforming the distribution at hand like by log transformation or square root transformation if the distribution is skewed."
   ]
  },
  {
   "cell_type": "markdown",
   "id": "eb483a08",
   "metadata": {},
   "source": [
    "### 25. What is the empirical rule?"
   ]
  },
  {
   "cell_type": "markdown",
   "id": "2ad75f6b",
   "metadata": {},
   "source": [
    "The empirical rule, also known as the `three-sigma rule` or the `68-95-99.7 rule`, is a statistical rule that states that almost all observed data for a normal distribution will fall within three standard deviations (denoted by σ) of the mean or average (denoted by µ)."
   ]
  },
  {
   "cell_type": "markdown",
   "id": "0598c623",
   "metadata": {},
   "source": [
    "### 26. What is skewness?"
   ]
  },
  {
   "cell_type": "markdown",
   "id": "4e3619b6",
   "metadata": {},
   "source": [
    "**Skewness is a measure of the asymmetry of a distribution.** A distribution is asymmetrical when its left and right side are not mirror images. A distribution can have right (or positive), left (or negative), or zero skewness."
   ]
  },
  {
   "cell_type": "markdown",
   "id": "13bf06ac",
   "metadata": {},
   "source": [
    "### 27. What are the different measures of skewness?"
   ]
  },
  {
   "cell_type": "markdown",
   "id": "2b38238a",
   "metadata": {},
   "source": [
    "- **Right skewness:** When the distribution is elongated towards the right.\n",
    "- **Left skewness:** When the distribution is elongated towards the left.\n",
    "- **Zero skewness:** When the left and right parts of a distribution are mirror images of each other"
   ]
  },
  {
   "cell_type": "markdown",
   "id": "b29306bd",
   "metadata": {},
   "source": [
    "### 28. What is kurtosis?"
   ]
  },
  {
   "cell_type": "markdown",
   "id": "c1b21ac1",
   "metadata": {},
   "source": [
    "**Kurtosis is a measure of the tailedness of a distribution**. Tailedness is how often outliers occur.<br><br>\n",
    " - Like skewness, kurtosis describes a particular aspect of a probability distribution.\n",
    " <br><br>\n",
    " - There are different ways to quantify kurtosis for a theoretical distribution, and there are corresponding ways of estimating it using a sample from a population. Different measures of kurtosis may have different interpretations.\n",
    " <br><br>\n",
    " There are three types of kurtosis:<br>\n",
    "i) **Leptokurtic:** High kurtosis (fat tails).<br>\n",
    "ii) **Mesokurtic:** Distributions with medium kurtosis (medium tails)<br>\n",
    "iii) **Platykurtic:** Low kurtosis (thin tails)<br>"
   ]
  },
  {
   "attachments": {
    "The-difference-between-skewness-and-kurtosis.webp": {
     "image/webp": "[encoded data removed]"
    }
   },
   "cell_type": "markdown",
   "id": "547abc6a",
   "metadata": {},
   "source": [
    "![The-difference-between-skewness-and-kurtosis.webp](attachment:The-difference-between-skewness-and-kurtosis.webp)"
   ]
  }
 ],
 "metadata": {
  "kernelspec": {
   "display_name": "Python 3.10.6 64-bit",
   "language": "python",
   "name": "python3"
  },
  "language_info": {
   "codemirror_mode": {
    "name": "ipython",
    "version": 3
   },
   "file_extension": ".py",
   "mimetype": "text/x-python",
   "name": "python",
   "nbconvert_exporter": "python",
   "pygments_lexer": "ipython3",
   "version": "3.10.6"
  },
  "vscode": {
   "interpreter": {
    "hash": "2a8dfe095fce2b5e88c64a2c3ee084c8e0e0d70b23e7b95b1cfb538be294c5c8"
   }
  }
 },
 "nbformat": 4,
 "nbformat_minor": 5
}
